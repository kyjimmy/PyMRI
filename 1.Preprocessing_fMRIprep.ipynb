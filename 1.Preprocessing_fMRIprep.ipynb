{
 "cells": [
  {
   "cell_type": "markdown",
   "metadata": {},
   "source": [
    "## Preprocessing fMRI dataset from OpenNeuro using fMRIprep\n",
    "\n",
    "### There are four main parts of this script. \n",
    "\n",
    "1. Installs fMRIprep using Docker container. \n",
    "2. Downloads fMRI dataset from OpenNeuro using AWS.\n",
    "3. Checks data using BIDSLayout.\n",
    "4. Runs fMRIprep-docker."
   ]
  },
  {
   "cell_type": "markdown",
   "metadata": {},
   "source": [
    "### 0. What is fMRIprep? \n",
    "\n",
    "#### A Preprocessing Pipeline for fMRI Data (https://fmriprep.org/en/stable/)\n",
    "\n",
    "• fMRIPrep is a functional magnetic resonance imaging (fMRI) data preprocessing pipeline that is designed to provide an easily accessible, state-of-the-art interface that is robust to variations in scan acquisition protocols and that requires minimal user input, while providing easily interpretable and comprehensive error and output reporting. It performs basic processing steps (coregistration, normalization, unwarping, noise component extraction, segmentation, skullstripping etc.) providing outputs that can be easily submitted to a variety of group level analyses, including task-based or resting-state fMRI, graph theory measures, surface or volume-based statistics, etc.\n",
    "\n",
    "• Note: fMRIPrep performs minimal preprocessing\n",
    "\n",
    "• For more information, please visit: https://fmriprep.org/en/stable/index.html"
   ]
  },
  {
   "cell_type": "markdown",
   "metadata": {},
   "source": [
    "### 1. Install fMRIprep Using Docker \n",
    "\n",
    "• Docker is required and can be downloaded from https://docs.docker.com/get-docker/\n",
    "\n",
    "• Use Docker container to pull the fMRIprep image."
   ]
  },
  {
   "cell_type": "code",
   "execution_count": null,
   "metadata": {},
   "outputs": [],
   "source": [
    "!docker pull poldracklab/fmriprep:latest"
   ]
  },
  {
   "cell_type": "markdown",
   "metadata": {},
   "source": [
    "• Install \"fmriprep-docker\" wrapper, which provides a convenient way to run \"fmriprep\" using the Docker Engine."
   ]
  },
  {
   "cell_type": "code",
   "execution_count": null,
   "metadata": {},
   "outputs": [],
   "source": [
    "!python -m pip install --user --upgrade fmriprep-docker "
   ]
  },
  {
   "cell_type": "markdown",
   "metadata": {},
   "source": [
    "### 2. Download Dataset from OpenNeuro"
   ]
  },
  {
   "cell_type": "markdown",
   "metadata": {},
   "source": [
    "#### Download Dataset ds000030 from OpenNeuro Using AWS\n",
    "\n",
    "• For illustration, only a subset of data (sub-10159) was pulled.\n",
    "\n",
    "Dataset: UCLA Consortium for Neuropsychiatric Phenomics LA5c Study \n",
    "\n",
    "Website: https://openneuro.org/datasets/ds000030/versions/1.0.0"
   ]
  },
  {
   "cell_type": "code",
   "execution_count": null,
   "metadata": {},
   "outputs": [],
   "source": [
    "!aws s3 sync --no-sign-request \\\n",
    "  s3://openneuro/ds000030/ds000030_R1.0.5/uncompressed/sub-10159 \\\n",
    "  ./FMRI/ds000030/sub-10159"
   ]
  },
  {
   "cell_type": "code",
   "execution_count": null,
   "metadata": {},
   "outputs": [],
   "source": [
    "## To downlaod full dataset\n",
    "# !aws s3 sync --no-sign-request s3://openneuro.org/ds000030 ds000030-download/  "
   ]
  },
  {
   "cell_type": "markdown",
   "metadata": {},
   "source": [
    "#### Download Dataset ds000133 From OpenNeuro Using AWS\n",
    "\n",
    "• Alternatively, users can download any dataset you find interesting, e.g. dataset ds000133 \n",
    "\n",
    "Dataset: Modafinil alters intrinsic functional connectivity of the right posterior insula: a pharmacological resting state fMRI study\n",
    "\n",
    "Website: https://openneuro.org/datasets/ds000133"
   ]
  },
  {
   "cell_type": "code",
   "execution_count": null,
   "metadata": {},
   "outputs": [],
   "source": [
    "# !aws s3 sync --no-sign-request s3://openneuro.org/ds000133 FMRI/ds000133-download/   "
   ]
  },
  {
   "cell_type": "markdown",
   "metadata": {},
   "source": [
    "### 3. Check Data\n",
    "\n",
    "• Confirm that we successfully pull the subject data."
   ]
  },
  {
   "cell_type": "code",
   "execution_count": null,
   "metadata": {},
   "outputs": [],
   "source": [
    "from bids.layout import BIDSLayout\n",
    "layout = BIDSLayout('./FMRI/ds000030', validate=False)"
   ]
  },
  {
   "cell_type": "code",
   "execution_count": null,
   "metadata": {},
   "outputs": [],
   "source": [
    "layout.get_subjects() #Display the list of subjects"
   ]
  },
  {
   "cell_type": "markdown",
   "metadata": {},
   "source": [
    "### 4. Run fMRIprep-docker\n",
    "\n",
    "**Notes**:\n",
    "\n",
    "1. fMRIprep requires a FreeSurfer license, which can be obtained [here](https://surfer.nmr.mgh.harvard.edu/registration.html) with no cost.\n",
    "\n",
    "\n",
    "2. Make sure the path to `fmriprep-docker` is added to your `PATH` environment variable.\n",
    "\n",
    "    If not in `PATH`:\n",
    "\n",
    "    i) Find directory: `find ~/.local -name fmriprep-docker`\n",
    "\n",
    "    ii) Export the path of the bin directory obtained from (i): \n",
    "    \n",
    "    e.g. `export PATH=$PATH:/Users/{username}/.local/bin`\n",
    "\n",
    "\n",
    "3. Assign more memory from 2GB to 8GB (or higher) RAM to Docker engine (Docker Preferences -> Resources -> Advanced -> Memory)."
   ]
  },
  {
   "cell_type": "markdown",
   "metadata": {},
   "source": [
    "**ds000030 dataset**:\n",
    "\n",
    "Input Arguments of `fmriprep-docker`:\n",
    "\n",
    "•  **./FMRI/ds000030** is the location where you save your fMRI data.\n",
    "\n",
    "•  **./FMRI/derivatives** is the output directory.\n",
    "\n",
    "•  **./FMRI/freesurfer_license.txt** is the location where you save FreeSurfer license on the host file system.\n",
    "\n",
    "This command can also be run inside a terminal with the `!` sign removed."
   ]
  },
  {
   "cell_type": "code",
   "execution_count": null,
   "metadata": {},
   "outputs": [],
   "source": [
    "!fmriprep-docker ./ds000030 \\\n",
    "./derivatives participant  \\\n",
    "--fs-license-file ./freesurfer_license.txt \\\n",
    "--ignore slicetiming "
   ]
  },
  {
   "cell_type": "markdown",
   "metadata": {},
   "source": [
    "Another example:\n",
    "\n",
    "**ds000133 dataset**:"
   ]
  },
  {
   "cell_type": "code",
   "execution_count": null,
   "metadata": {},
   "outputs": [],
   "source": [
    "# !fmriprep-docker ./FMRI/ds000133-download  \\\n",
    "# ./FMRI/derivatives participant \\\n",
    "# --fs-license-file /My/license/directory/freesurfer_license.txt"
   ]
  }
 ],
 "metadata": {
  "kernelspec": {
   "display_name": "Python 3",
   "language": "python",
   "name": "python3"
  },
  "language_info": {
   "codemirror_mode": {
    "name": "ipython",
    "version": 3
   },
   "file_extension": ".py",
   "mimetype": "text/x-python",
   "name": "python",
   "nbconvert_exporter": "python",
   "pygments_lexer": "ipython3",
   "version": "3.7.4"
  }
 },
 "nbformat": 4,
 "nbformat_minor": 2
}
